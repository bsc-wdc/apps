{
 "cells": [
  {
   "cell_type": "markdown",
   "metadata": {},
   "source": [
    "# PCA (Principal Component Analysis)\n",
    "\n",
    "Dimensional reduction algorithm"
   ]
  },
  {
   "cell_type": "code",
   "execution_count": null,
   "metadata": {},
   "outputs": [],
   "source": [
    "import pycompss.interactive as ipycompss"
   ]
  },
  {
   "cell_type": "code",
   "execution_count": null,
   "metadata": {},
   "outputs": [],
   "source": [
    "# Start PyCOMPSs runtime with graph and tracing enabled\n",
    "ipycompss.start(graph=True, trace=True)"
   ]
  },
  {
   "cell_type": "code",
   "execution_count": null,
   "metadata": {},
   "outputs": [],
   "source": [
    "from pycompss.api.task import task\n",
    "from pycompss.api.parameter import *\n",
    "import numpy as np"
   ]
  },
  {
   "cell_type": "markdown",
   "metadata": {},
   "source": [
    "## Task definitions"
   ]
  },
  {
   "cell_type": "code",
   "execution_count": null,
   "metadata": {},
   "outputs": [],
   "source": [
    "@task(returns=np.float64)\n",
    "def _meanVector(sample):\n",
    "    return np.mean(sample)\n",
    "\n",
    "@task(returns=list)\n",
    "def normalize(data, mean):\n",
    "    return list(map(lambda x: x - mean, data))\n",
    "\n",
    "@task(returns=np.float64)\n",
    "def dotProduct(P, Q):\n",
    "    import sys\n",
    "    val = map(lambda p: p[0].dot(p[1].T), zip(P, Q))\n",
    "    if sys.version_info[0] >= 3:\n",
    "        from functools import reduce\n",
    "    else:\n",
    "        from __builtin__ import reduce\n",
    "    sm = reduce(lambda x, y: x + y, val, 0)\n",
    "    return sm\n",
    "\n",
    "#@task(returns=list)\n",
    "def eigenValues(scatter_matrix):\n",
    "    eig_val, eig_vec = np.linalg.eig(scatter_matrix)\n",
    "    eig = [(np.abs(eig_val[i]), eig_vec[:, i]) for i in range(len(eig_val))]\n",
    "    return eig\n",
    "\n",
    "#@task(returns=np.ndarray)\n",
    "def transform(data, eig, dim):\n",
    "    eig_sorted = sorted(eig, key=lambda x: x[0], reverse=True)\n",
    "    w = np.hstack([eig_sorted[i][1].reshape(dim, 1) for i in range(dim - 1)])\n",
    "    transform_dim = w.T.dot(data)\n",
    "    return transform_dim"
   ]
  },
  {
   "cell_type": "markdown",
   "metadata": {},
   "source": [
    "## Functions"
   ]
  },
  {
   "cell_type": "code",
   "execution_count": null,
   "metadata": {},
   "outputs": [],
   "source": [
    "def generateData(numV, dim, K):\n",
    "    n = int(float(numV) / K)\n",
    "    data = []\n",
    "    np.random.seed(8)\n",
    "    cov = np.eye(dim)\n",
    "    for k in range(K):\n",
    "        mu = [k] * dim\n",
    "        data.append(np.random.multivariate_normal(mu, cov, n).T)\n",
    "    return np.concatenate(([data[i] for i in range(K)]), axis=1)"
   ]
  },
  {
   "cell_type": "code",
   "execution_count": null,
   "metadata": {},
   "outputs": [],
   "source": [
    "def meanVector(samples):\n",
    "    m = list(map(_meanVector, samples))\n",
    "    return m"
   ]
  },
  {
   "cell_type": "code",
   "execution_count": null,
   "metadata": {},
   "outputs": [],
   "source": [
    "def scatterMatrix_d(data, mean, dim):\n",
    "    sm = [[0 for _ in range(dim)] for _ in range(dim)]\n",
    "    points = []\n",
    "    for i in range(dim):\n",
    "        points.append(normalize(data[i], mean))\n",
    "    for i in range(dim):\n",
    "        for j in range(dim):\n",
    "            sm[i][j] = dotProduct(points[i], points[j])\n",
    "    return sm"
   ]
  },
  {
   "cell_type": "code",
   "execution_count": null,
   "metadata": {},
   "outputs": [],
   "source": [
    "def scatterMatrix(samples, mean_vector, dim):\n",
    "    data = [samples[:, i] for i in range(len(samples[0]))]\n",
    "    sm = np.zeros((dim, dim))\n",
    "    for p in data:\n",
    "        pt = p.reshape(dim, 1)\n",
    "        sm += (pt - mean_vector).dot((pt - mean_vector).T)\n",
    "    return sm"
   ]
  },
  {
   "cell_type": "code",
   "execution_count": null,
   "metadata": {},
   "outputs": [],
   "source": [
    "from matplotlib.patches import FancyArrowPatch\n",
    "from mpl_toolkits.mplot3d import Axes3D\n",
    "\n",
    "class Arrow3D(FancyArrowPatch):\n",
    "\n",
    "    def __init__(self, xs, ys, zs, *args, **kwargs):\n",
    "        FancyArrowPatch.__init__(self, (0, 0), (0, 0), *args, **kwargs)\n",
    "        self._verts3d = xs, ys, zs\n",
    "\n",
    "    def draw(self, renderer):\n",
    "        from mpl_toolkits.mplot3d import proj3d\n",
    "        xs3d, ys3d, zs3d = self._verts3d\n",
    "        xs, ys, zs = proj3d.proj_transform(xs3d, ys3d, zs3d, renderer.M)\n",
    "        self.set_positions((xs[0], ys[0]), (xs[1], ys[1]))\n",
    "        FancyArrowPatch.draw(self, renderer)\n",
    "\n",
    "def show(data, transformData, mean, eig, classes):\n",
    "    %matplotlib inline\n",
    "    from matplotlib import pyplot as plt\n",
    "    fig = plt.figure(figsize=(8, 8))\n",
    "\n",
    "    ax = fig.add_subplot(111, projection='3d')\n",
    "\n",
    "    numPoints = len(data[0]) / classes\n",
    "    obj = ['o', 'x', '^']\n",
    "    for c in list(range(classes)):\n",
    "        s = int(c * numPoints)\n",
    "        e = int(s + numPoints)\n",
    "        ax.plot(data[0][s:e], data[1][s:e], data[2][s:e], obj[c])\n",
    "\n",
    "    ax.plot([mean[0]], [mean[1]], [mean[2]], 'o', color='red')\n",
    "    for n, w in eig:\n",
    "        v = w.T\n",
    "        a = Arrow3D([mean[0], v[0] + mean[0]], \n",
    "                    [mean[1], v[1] + mean[1]], \n",
    "                    [mean[2], v[2] + mean[2]], mutation_scale=20, lw=3, arrowstyle=\"-|>\", color=\"r\")\n",
    "        ax.add_artist(a)\n",
    "    #plt.savefig('PCA3dim.png')\n",
    "    plt.show()\n",
    "    \n",
    "    fig = plt.figure(figsize=(8, 8))\n",
    "    ax = fig.add_subplot(111)\n",
    "    for c in range(classes):\n",
    "        s = int(c * numPoints)\n",
    "        e = int(s + numPoints)\n",
    "        ax.plot(transformData[0][s:e], transformData[1][s:e], obj[c])\n",
    "\n",
    "    #plt.savefig('PCA2dim.png')\n",
    "    plt.show()\n"
   ]
  },
  {
   "cell_type": "markdown",
   "metadata": {},
   "source": [
    "## MAIN Code\n",
    "\n",
    "Parameters (that can be configured in the following cell):\n",
    "* numPoints: Number of points (default: 1.000)\n",
    "* dim: Number of dimensions (default: 3)\n",
    "* classes: Number of classes (default: 3)"
   ]
  },
  {
   "cell_type": "code",
   "execution_count": null,
   "metadata": {},
   "outputs": [],
   "source": [
    "import time\n",
    "from pycompss.api.api import compss_wait_on\n",
    "\n",
    "numPoints = 1000\n",
    "dim = 3\n",
    "classes = 3\n",
    "\n",
    "st = time.time()\n",
    "data = generateData(numPoints, dim, classes)\n",
    "m = meanVector(data)\n",
    "print(\"Generation time (s): {}\".format(time.time() - st))\n",
    "\n",
    "scatter_matrix = scatterMatrix_d(data, m, dim)\n",
    "scatter_matrix = compss_wait_on(scatter_matrix)\n",
    "print(\"Elapsed time (s): {}\".format(time.time() - st))\n",
    "\n",
    "eig = eigenValues(scatter_matrix)\n",
    "transform_dim = transform(data, eig, dim)"
   ]
  },
  {
   "cell_type": "code",
   "execution_count": null,
   "metadata": {},
   "outputs": [],
   "source": [
    "# Plot Result\n",
    "show(data, transform_dim, m, eig, classes)"
   ]
  },
  {
   "cell_type": "code",
   "execution_count": null,
   "metadata": {},
   "outputs": [],
   "source": [
    "ipycompss.stop()"
   ]
  }
 ],
 "metadata": {
  "kernelspec": {
   "display_name": "Python 2",
   "language": "python",
   "name": "python2"
  },
  "language_info": {
   "codemirror_mode": {
    "name": "ipython",
    "version": 2
   },
   "file_extension": ".py",
   "mimetype": "text/x-python",
   "name": "python",
   "nbconvert_exporter": "python",
   "pygments_lexer": "ipython2",
   "version": "2.7.12"
  }
 },
 "nbformat": 4,
 "nbformat_minor": 2
}
