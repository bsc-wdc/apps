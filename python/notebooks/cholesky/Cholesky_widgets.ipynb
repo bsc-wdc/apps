{
 "cells": [
  {
   "cell_type": "markdown",
   "metadata": {},
   "source": [
    "# CHOLESKY Decomposition/Factorization\n",
    "\n",
    "Given a symmetric positive definite matrix A, the Cholesky decomposition is an upper triangular matrix U (with strictly positive diagonal entries) such that:\n",
    "\n",
    "$A=U^TU$"
   ]
  },
  {
   "cell_type": "code",
   "execution_count": null,
   "metadata": {},
   "outputs": [],
   "source": [
    "import pycompss.interactive as ipycompss"
   ]
  },
  {
   "cell_type": "code",
   "execution_count": null,
   "metadata": {},
   "outputs": [],
   "source": [
    "# Start PyCOMPSs runtime with graph and tracing enabled\n",
    "ipycompss.start(graph=True, trace=True)"
   ]
  },
  {
   "cell_type": "code",
   "execution_count": null,
   "metadata": {},
   "outputs": [],
   "source": [
    "from pycompss.api.task import task\n",
    "from scipy import linalg\n",
    "from scipy import random\n",
    "import numpy as np"
   ]
  },
  {
   "cell_type": "markdown",
   "metadata": {},
   "source": [
    "### Task definitions"
   ]
  },
  {
   "cell_type": "code",
   "execution_count": null,
   "metadata": {},
   "outputs": [],
   "source": [
    "@task(returns=list)\n",
    "def createBlock(BSIZE, MKLProc, diag):\n",
    "    import os\n",
    "    os.environ[\"MKL_NUM_THREADS\"]=str(MKLProc)\n",
    "    block = np.array(np.random.random((BSIZE, BSIZE)), dtype=np.double,copy=False)\n",
    "    mb = np.matrix(block, dtype=np.double, copy=False)\n",
    "    mb = mb + np.transpose(mb)\n",
    "    if diag:\n",
    "        mb = mb + 2*BSIZE*np.eye(BSIZE)\n",
    "    return mb\n",
    "\n",
    "@task(returns=np.ndarray)\n",
    "def potrf(A, MKLProc):\n",
    "    from scipy.linalg.lapack import dpotrf\n",
    "    import os\n",
    "    os.environ['MKL_NUM_THREADS']=str(MKLProc)\n",
    "    A = dpotrf(A, lower=True)[0]\n",
    "    return A\n",
    "\n",
    "@task(returns=np.ndarray)\n",
    "def solve_triangular(A, B, MKLProc):\n",
    "    from scipy.linalg import solve_triangular\n",
    "    from numpy import transpose\n",
    "    import os\n",
    "    os.environ['MKL_NUM_THREADS']=str(MKLProc)\n",
    "    B = transpose(B)\n",
    "    B = solve_triangular(A, B, lower=True)  # , trans='T'\n",
    "    B = transpose(B)\n",
    "    return B"
   ]
  },
  {
   "cell_type": "code",
   "execution_count": null,
   "metadata": {},
   "outputs": [],
   "source": [
    "%%writefile external_module.py\n",
    "\n",
    "from pycompss.api.task import task\n",
    "import numpy as np\n",
    "\n",
    "@task(returns=np.ndarray)\n",
    "def gemm(alpha, A, B, C, beta, MKLProc):\n",
    "    from scipy.linalg.blas import dgemm\n",
    "    from numpy import transpose\n",
    "    import os\n",
    "    os.environ['MKL_NUM_THREADS']=str(MKLProc)\n",
    "    B = transpose(B)\n",
    "    C = dgemm(alpha, A, B, c=C, beta=beta)\n",
    "    return C"
   ]
  },
  {
   "cell_type": "markdown",
   "metadata": {},
   "source": [
    "### Gemm version for GPUs"
   ]
  },
  {
   "cell_type": "code",
   "execution_count": null,
   "metadata": {},
   "outputs": [],
   "source": [
    "%%writefile -a external_module.py\n",
    "\n",
    "from pycompss.api.implement import implement\n",
    "from pycompss.api.constraint import constraint\n",
    "\n",
    "def skcuda_matmul(alpha, A, B, C, beta):\n",
    "    import os\n",
    "    import pycuda.autoinit\n",
    "    import pycuda.gpuarray as gpuarray\n",
    "    import skcuda.linalg as culinalg\n",
    "    import skcuda.cublas as cublas\n",
    "    import ctypes\n",
    "    ctypes.CDLL(\"libgomp.so.1\", mode=ctypes.RTLD_GLOBAL)\n",
    "    _libcusolver = ctypes.cdll.LoadLibrary(\"libcusolver.so\")\n",
    "    culinalg.init()\n",
    "    from numpy import transpose\n",
    "    a_gpu = gpuarray.to_gpu(A)\n",
    "    B = transpose(B)\n",
    "    b_gpu = gpuarray.to_gpu(B)\n",
    "    c_gpu = gpuarray.to_gpu(C)\n",
    "    alpha = np.float32(alpha)\n",
    "    beta = np.float32(beta)\n",
    "    cublas_handle = cublas.cublasCreate()\n",
    "    #In this call we assume A, B, C square\n",
    "    cublas.cublasDgemm(cublas_handle, \"n\", \"n\", A.shape[0],\n",
    "                       B.shape[1], A.shape[1], alpha, b_gpu.gpudata, B.shape[1],\n",
    "                       a_gpu.gpudata, A.shape[1], beta, c_gpu.gpudata, B.shape[0])\n",
    "    cublas.cublasDestroy(cublas_handle)\n",
    "    mat_res = c_gpu.get()\n",
    "    return mat_res\n",
    "\n",
    "@implement(source_class=\"external_module\", method=\"gemm\")\n",
    "@constraint(processors=[{\"ProcessorType\":\"CPU\", \"ComputingUnits\":1}, {\"ProcessorType\":\"GPU\", \"ComputingUnits\":1}])\n",
    "@task(returns=list)\n",
    "def gemm_gpu(alpha, A, B, C, beta, MKLProc = 1):\n",
    "    from gpu_kernels import skcuda_matmul\n",
    "    res_gpu = skcuda_matmul(alpha, A, B, C, beta)\n",
    "    return res_gpu"
   ]
  },
  {
   "cell_type": "markdown",
   "metadata": {},
   "source": [
    "### Auxiliar functions"
   ]
  },
  {
   "cell_type": "code",
   "execution_count": null,
   "metadata": {},
   "outputs": [],
   "source": [
    "def genMatrix(MSIZE, BSIZE, MKLProc, A):\n",
    "    for i in range(MSIZE):\n",
    "        A.append([])\n",
    "        for j in range(MSIZE):\n",
    "            A[i].append([])\n",
    "    for i in range(MSIZE):\n",
    "        mb = createBlock(BSIZE, MKLProc, True)\n",
    "        A[i][i]=mb\n",
    "        for j in range(i+1,MSIZE):\n",
    "            mb = createBlock(BSIZE, MKLProc, False)\n",
    "            A[i][j]=mb\n",
    "            A[j][i]=mb"
   ]
  },
  {
   "cell_type": "code",
   "execution_count": null,
   "metadata": {},
   "outputs": [],
   "source": [
    "def cholesky_blocked(MSIZE, BSIZE, mkl_threads, A):\n",
    "    from external_module import gemm\n",
    "    cont = 0\n",
    "    for k in range(MSIZE):\n",
    "        # Diagonal block factorization\n",
    "        A[k][k] = potrf(A[k][k], mkl_threads)\n",
    "        cont += 1\n",
    "        # Triangular systems\n",
    "        for i in range(k+1, MSIZE):\n",
    "            A[i][k] = solve_triangular(A[k][k], A[i][k], mkl_threads)\n",
    "            A[k][i] = np.zeros((BSIZE,BSIZE))\n",
    "            cont += 1\n",
    "\n",
    "        # update trailing matrix\n",
    "        for i in range(k+1, MSIZE):\n",
    "            for j in range(i, MSIZE):\n",
    "                A[j][i] = gemm(-1.0, A[j][k], A[i][k], A[j][i], 1.0, mkl_threads)\n",
    "                cont += 1\n",
    "            cont += 1\n",
    "\n",
    "    print(\"Number of tasks: {}\".format(cont))\n",
    "    return A"
   ]
  },
  {
   "cell_type": "code",
   "execution_count": null,
   "metadata": {},
   "outputs": [],
   "source": [
    "def plot_sparsity(matrix):\n",
    "    %matplotlib inline\n",
    "    import matplotlib.pylab as plt\n",
    "    import scipy.sparse as sps\n",
    "    M = sps.csr_matrix(matrix)\n",
    "    plt.spy(M)\n",
    "    plt.show()\n",
    "    \n",
    "def plot_matrix(matrix):\n",
    "    %matplotlib inline\n",
    "    import matplotlib.pyplot as plt\n",
    "    import numpy as np\n",
    "    plt.matshow(matrix, fignum=100, cmap=plt.cm.Greys) # Greys, Blues, Purples\n",
    "    plt.show()"
   ]
  },
  {
   "cell_type": "markdown",
   "metadata": {},
   "source": [
    "## MAIN Code\n",
    "\n",
    "Parameters (that can be configured in the following cell):\n",
    "* MSIZE: Matrix size (default: 2)\n",
    "* BSIZE: Block size (default: 2)\n",
    "* mkl_threads: Number of MKL threads (default: 1)"
   ]
  },
  {
   "cell_type": "code",
   "execution_count": null,
   "metadata": {},
   "outputs": [],
   "source": [
    "import ipywidgets as widgets\n",
    "import time\n",
    "import os\n",
    "from pycompss.api.api import compss_barrier\n",
    "from pycompss.api.api import compss_wait_on\n",
    "\n",
    "w_MSIZE = widgets.IntText(value=8)     # For quick demonstrations: 4\n",
    "w_BSIZE = widgets.IntText(value=1024)  # For quick demonstrations: 4\n",
    "w_mkl_threads = widgets.IntText(value=1)\n",
    "\n",
    "def cholesky(MSIZE, BSIZE, mkl_threads):\n",
    "    # Generate de matrix\n",
    "    startTime = time.time()\n",
    "\n",
    "    # Generate supermatrix\n",
    "    A = []\n",
    "    res = []\n",
    "    genMatrix(MSIZE, BSIZE, mkl_threads, A)\n",
    "    compss_barrier()\n",
    "\n",
    "    initTime = time.time() - startTime\n",
    "    startDecompTime = time.time()\n",
    "    res = cholesky_blocked(MSIZE, BSIZE, mkl_threads, A)\n",
    "    compss_barrier()\n",
    "\n",
    "    decompTime = time.time() - startDecompTime\n",
    "    totalTime = decompTime + initTime\n",
    "    \n",
    "    print(\"---------- Elapsed Times ----------\")\n",
    "    print(\"initT:{}\".format(initTime))\n",
    "    print(\"decompT:{}\".format(decompTime))\n",
    "    print(\"totalTime:{}\".format(totalTime))\n",
    "    print(\"-----------------------------------\")\n",
    "\n",
    "    # Plot the result matrix\n",
    "    res = compss_wait_on(res)\n",
    "    collapsed_rows_res = []\n",
    "    for i in res:\n",
    "        collapsed_rows_res.append(np.concatenate(i, axis=1))\n",
    "    collapsed = np.concatenate(collapsed_rows_res, axis=0)\n",
    "    # print collapsed\n",
    "    plot_sparsity(collapsed)\n",
    "    plot_matrix(collapsed)\n",
    "    \n",
    "widgets.interact_manual(cholesky, MSIZE=w_MSIZE, BSIZE=w_BSIZE, mkl_threads=w_mkl_threads)"
   ]
  },
  {
   "cell_type": "code",
   "execution_count": null,
   "metadata": {},
   "outputs": [],
   "source": [
    "ipycompss.stop()"
   ]
  }
 ],
 "metadata": {
  "kernelspec": {
   "display_name": "Python 2",
   "language": "python",
   "name": "python2"
  },
  "language_info": {
   "codemirror_mode": {
    "name": "ipython",
    "version": 2
   },
   "file_extension": ".py",
   "mimetype": "text/x-python",
   "name": "python",
   "nbconvert_exporter": "python",
   "pygments_lexer": "ipython2",
   "version": "2.7.12"
  }
 },
 "nbformat": 4,
 "nbformat_minor": 2
}
