{
 "cells": [
  {
   "cell_type": "markdown",
   "metadata": {},
   "source": [
    "# QR Decomposition/Factorization\n",
    "\n",
    "QR decomposition/factorization of a matrix (A) is a decomposition of the same as a product of an orthogonal matrix and an upper triangular.\n",
    "\n",
    "Formally:\n",
    "\n",
    "$A=QR$\n",
    "\n",
    "Where Q is an orthogonal matrix ($Q^TQ=I$) and R is an upper tiragular matrix.\n",
    "\n",
    "Note: for the moment, only works for square matrix. No size verifications."
   ]
  },
  {
   "cell_type": "code",
   "execution_count": null,
   "metadata": {},
   "outputs": [],
   "source": [
    "import pycompss.interactive as ipycompss"
   ]
  },
  {
   "cell_type": "code",
   "execution_count": null,
   "metadata": {},
   "outputs": [],
   "source": [
    "# Start PyCOMPSs runtime with graph and tracing enabled\n",
    "ipycompss.start(graph=True, trace=True)"
   ]
  },
  {
   "cell_type": "code",
   "execution_count": null,
   "metadata": {},
   "outputs": [],
   "source": [
    "import numpy as np\n",
    "from pycompss.api.constraint import constraint\n",
    "from pycompss.api.task import task\n",
    "from pycompss.api.parameter import *"
   ]
  },
  {
   "cell_type": "markdown",
   "metadata": {},
   "source": [
    "## Functions"
   ]
  },
  {
   "cell_type": "code",
   "execution_count": null,
   "metadata": {},
   "outputs": [],
   "source": [
    "def setMKLNumThreads(MKLProc):\n",
    "    import os\n",
    "    os.environ[\"MKL_NUM_THREADS\"]=str(MKLProc)"
   ]
  },
  {
   "cell_type": "code",
   "execution_count": null,
   "metadata": {},
   "outputs": [],
   "source": [
    "def genMatrix(MKLProc):\n",
    "    A = []\n",
    "    for i in range(MSIZE):\n",
    "        A.append([])\n",
    "        for j in range(MSIZE):\n",
    "            A[i].append(createBlock(BSIZE, MKLProc, type='random'))\n",
    "    return A"
   ]
  },
  {
   "cell_type": "code",
   "execution_count": null,
   "metadata": {},
   "outputs": [],
   "source": [
    "def genZeros(MSIZE, BSIZE, MKLProc):\n",
    "    A = []\n",
    "    for i in range(MSIZE):\n",
    "        A.append([])\n",
    "        for j in range(0, MSIZE):\n",
    "            A[i].append(createBlock(BSIZE, MKLProc,type='zeros'))\n",
    "    return A"
   ]
  },
  {
   "cell_type": "code",
   "execution_count": null,
   "metadata": {},
   "outputs": [],
   "source": [
    "def genIdentity(MSIZE, BSIZE, MKLProc):\n",
    "    A = []\n",
    "    for i in range(MSIZE):\n",
    "        A.append([])\n",
    "        for j in range(0, i):\n",
    "            A[i].append(createBlock(BSIZE, MKLProc, type='zeros'))\n",
    "        A[i].append(createBlock(BSIZE, MKLProc, type='identity'))\n",
    "        for j in range(i+1, MSIZE):\n",
    "            A[i].append(createBlock(BSIZE, MKLProc, type='zeros'))\n",
    "    return A"
   ]
  },
  {
   "cell_type": "code",
   "execution_count": null,
   "metadata": {},
   "outputs": [],
   "source": [
    "def copyBlocked(A, transpose=False):\n",
    "    B = []\n",
    "    for i in range(len(A)):\n",
    "        B.append([])\n",
    "        for j in range(len(A[0])):\n",
    "            B[i].append(np.matrix([0]))\n",
    "    for i in range(len(A)):\n",
    "        for j in range(len(A[0])):\n",
    "            if transpose:\n",
    "                B[j][i] = A[i][j]\n",
    "            else:\n",
    "                B[i][j] = A[i][j]\n",
    "    return B"
   ]
  },
  {
   "cell_type": "code",
   "execution_count": null,
   "metadata": {},
   "outputs": [],
   "source": [
    "def multiplyBlocked(A,B,BSIZE,MKLProc, transposeB = False):\n",
    "    if transposeB:\n",
    "        newB=[]\n",
    "        for i in range(len(B[0])):\n",
    "            newB.append([])\n",
    "            for j in range(len(B)):\n",
    "                newB[i].append(B[j][i])\n",
    "        B = newB\n",
    "    C = []\n",
    "    for i in range(len(A)):\n",
    "        C.append([])\n",
    "        for j in range(len(B[0])):\n",
    "            C[i].append(createBlock(BSIZE, MKLProc, type='zeros'))\n",
    "            for k in range(len(A[0])):\n",
    "                multiplySingleBlock(A[i][k],B[k][j],C[i][j],MKLProc,transposeB=transposeB)\n",
    "    return C"
   ]
  },
  {
   "cell_type": "code",
   "execution_count": null,
   "metadata": {},
   "outputs": [],
   "source": [
    "def qr_blocked(A, MKLProc, overwrite_a=False):\n",
    "    Q = genIdentity(MSIZE,BSIZE,MKLProc)\n",
    "    if not overwrite_a:\n",
    "        R = copyBlocked(A)\n",
    "    else:\n",
    "        R = A\n",
    "    for i in range(MSIZE):\n",
    "        actQ, R[i][i] = qr(R[i][i], MKLProc, transpose=True)\n",
    "        for j in range(MSIZE):\n",
    "            Q[j][i] = dot(Q[j][i], actQ, MKLProc, transposeB=True)\n",
    "        for j in range(i+1,MSIZE):\n",
    "            R[i][j] = dot(actQ,R[i][j], MKLProc)\n",
    "        #Update values of the respective column\n",
    "        for j in range(i+1,MSIZE):\n",
    "            subQ = [[np.matrix(np.array([0])),np.matrix(np.array([0]))],[np.matrix(np.array([0])),np.matrix(np.array([0]))]]\n",
    "            subQ[0][0],subQ[0][1],subQ[1][0],subQ[1][1],R[i][i],R[j][i] = littleQR(R[i][i],R[j][i],MKLProc,BSIZE,transpose=True)\n",
    "            #Update values of the row for the value updated in the column\n",
    "            for k in range(i + 1,MSIZE):\n",
    "                [[R[i][k]],[R[j][k]]] = multiplyBlocked(subQ, [[R[i][k]],[R[j][k]]], BSIZE, MKLProc)\n",
    "            for k in range(MSIZE):\n",
    "                [[Q[k][i], Q[k][j]]] = multiplyBlocked([[Q[k][i], Q[k][j]]], subQ, BSIZE, MKLProc,transposeB=True)\n",
    "    return Q,R"
   ]
  },
  {
   "cell_type": "code",
   "execution_count": null,
   "metadata": {},
   "outputs": [],
   "source": [
    "def joinMatrix(A):\n",
    "    joinMat=np.matrix([[]])\n",
    "    for i in range(0,len(A)):\n",
    "        currRow=A[i][0]\n",
    "        for j in range(1,len(A[i])):\n",
    "            currRow=np.bmat([[currRow,A[i][j]]])\n",
    "        if i == 0:\n",
    "            joinMat = currRow\n",
    "        else:\n",
    "            joinMat = np.bmat([[joinMat],[currRow]])\n",
    "    return np.matrix(joinMat)"
   ]
  },
  {
   "cell_type": "code",
   "execution_count": null,
   "metadata": {},
   "outputs": [],
   "source": [
    "def splitMatrix(A,MSIZE):\n",
    "    splittedMatrix = []\n",
    "    bSize = int(len(A) / MSIZE)\n",
    "    for i in range(MSIZE):\n",
    "        splittedMatrix.append([])\n",
    "        for j in range(MSIZE):\n",
    "            block=[]\n",
    "            for k in range(bSize):\n",
    "                block.append([])\n",
    "                for w in range(bSize):\n",
    "                    block[k].append(A[i*bSize + k,j*bSize + w])\n",
    "            splittedMatrix[i].append(np.matrix(block))\n",
    "    return splittedMatrix"
   ]
  },
  {
   "cell_type": "markdown",
   "metadata": {},
   "source": [
    "## TASKS DEFINITIONS"
   ]
  },
  {
   "cell_type": "markdown",
   "metadata": {},
   "source": [
    "### BLOCK INITIALIZATION"
   ]
  },
  {
   "cell_type": "code",
   "execution_count": null,
   "metadata": {},
   "outputs": [],
   "source": [
    "@task(returns=list)\n",
    "def createBlock(BSIZE, MKLProc, type='random'):\n",
    "    setMKLNumThreads(MKLProc)\n",
    "    if type == 'zeros':\n",
    "        block = np.matrix(np.zeros((BSIZE,BSIZE)), dtype=np.double, copy=False)\n",
    "    elif type == 'identity':\n",
    "        block = np.matrix(np.identity(BSIZE), dtype=np.double, copy=False)\n",
    "    else:\n",
    "        block = np.matrix(np.random.random((BSIZE, BSIZE)), dtype=np.double,copy=False)\n",
    "    return block"
   ]
  },
  {
   "cell_type": "markdown",
   "metadata": {},
   "source": [
    "### MATHEMATICAL TASKS"
   ]
  },
  {
   "cell_type": "code",
   "execution_count": null,
   "metadata": {},
   "outputs": [],
   "source": [
    "@task(returns=(list,list))\n",
    "def qr(A, MKLProc, mode='reduced', transpose=False):\n",
    "    from numpy.linalg import qr\n",
    "    setMKLNumThreads(MKLProc)\n",
    "    (Q,R) = qr(A, mode=mode)\n",
    "    if transpose:\n",
    "        Q = np.transpose(Q)\n",
    "    return Q,R"
   ]
  },
  {
   "cell_type": "code",
   "execution_count": null,
   "metadata": {},
   "outputs": [],
   "source": [
    "@task(returns=list)\n",
    "def dot(A, B, MKLProc, transposeResult=False,transposeB=False):\n",
    "    setMKLNumThreads(MKLProc)\n",
    "    if transposeB:\n",
    "        B = np.transpose(B)\n",
    "    if transposeResult:\n",
    "        return np.transpose(np.dot(A,B))\n",
    "    return np.dot(A,B)"
   ]
  },
  {
   "cell_type": "code",
   "execution_count": null,
   "metadata": {},
   "outputs": [],
   "source": [
    "@task(returns=(list,list,list,list,list,list))\n",
    "def littleQR(A, B, MKLProc, BSIZE,transpose=False):\n",
    "    setMKLNumThreads(MKLProc)\n",
    "    currA = np.bmat([[A], [B]])\n",
    "    (subQ, subR) = np.linalg.qr(currA, mode='complete')\n",
    "    AA = subR[0:BSIZE]\n",
    "    BB = subR[BSIZE:2*BSIZE]\n",
    "    subQ = splitMatrix(subQ,2)\n",
    "    if transpose:\n",
    "        return np.transpose(subQ[0][0]), np.transpose(subQ[1][0]), np.transpose(subQ[0][1]), np.transpose(subQ[1][1]), AA, BB\n",
    "    else:\n",
    "        return subQ[0][0],subQ[0][1],subQ[1][0],subQ[1][1], AA, BB"
   ]
  },
  {
   "cell_type": "code",
   "execution_count": null,
   "metadata": {},
   "outputs": [],
   "source": [
    "@task(C=INOUT)\n",
    "def multiplySingleBlock(A,B,C,MKLProc,transposeB=False):\n",
    "    setMKLNumThreads(MKLProc)\n",
    "    if transposeB:\n",
    "        B = np.transpose(B)\n",
    "    C += A * B"
   ]
  },
  {
   "cell_type": "markdown",
   "metadata": {},
   "source": [
    "## MAIN Code\n",
    "\n",
    "Parameters (that can be configured in the following cell):\n",
    "* MSIZE: Matrix size (default: 2)\n",
    "* BSIZE: Block size (default: 2)\n",
    "* MKLProc: Number of MKL processes (default: 1)\n",
    "* verifyOutput: Boolean for the output verification (default: True)"
   ]
  },
  {
   "cell_type": "code",
   "execution_count": null,
   "metadata": {},
   "outputs": [],
   "source": [
    "import time\n",
    "import sys\n",
    "import os\n",
    "import copy \n",
    "from pycompss.api.api import compss_barrier\n",
    "from pycompss.api.api import compss_wait_on\n",
    "    \n",
    "np.set_printoptions(precision=2)\n",
    "       \n",
    "MSIZE = 2\n",
    "BSIZE = 2\n",
    "mkl_threads = 1\n",
    "verifyOutput = True  # False\n",
    "   \n",
    "# Generate de matrix\n",
    "startTime = time.time()\n",
    "m2b = genMatrix(mkl_threads)\n",
    "compss_barrier()\n",
    "initTime = time.time() - startTime\n",
    "\n",
    "startDecompTime = time.time()\n",
    "(Q,R) = qr_blocked(m2b, mkl_threads)\n",
    "compss_barrier()\n",
    "decompTime = time.time() - startDecompTime\n",
    "\n",
    "totalTime = time.time() - startTime"
   ]
  },
  {
   "cell_type": "code",
   "execution_count": null,
   "metadata": {},
   "outputs": [],
   "source": [
    "# Plot result\n",
    "print(\"PARAMS:------------------\")\n",
    "print(\"MSIZE:{}\".format(MSIZE))\n",
    "print(\"BSIZE:{}\".format(BSIZE))\n",
    "print(\"initT:{}\".format(initTime))\n",
    "print(\"decompT:{}\".format(decompTime))\n",
    "print(\"totalTime:{}\".format(totalTime))\n",
    "\n",
    "if(verifyOutput):\n",
    "    Q = compss_wait_on(Q)\n",
    "    R = compss_wait_on(R)\n",
    "    m2b = compss_wait_on(m2b)\n",
    "\n",
    "    print(\"Input matrix\")\n",
    "    print(joinMatrix(m2b))\n",
    "    print(\"Q*R\")\n",
    "    print(joinMatrix(Q)*joinMatrix(R))\n",
    "    print(\"Generated R\")\n",
    "    print(joinMatrix(R))\n",
    "    print(\"NumPy R\")\n",
    "    print(np.linalg.qr(joinMatrix(m2b))[1])\n",
    "    print(\"Generated Q\")\n",
    "    print(joinMatrix(Q))\n",
    "    print(\"NumPy Q\")\n",
    "    print(np.linalg.qr(joinMatrix(m2b))[0])"
   ]
  },
  {
   "cell_type": "code",
   "execution_count": null,
   "metadata": {},
   "outputs": [],
   "source": [
    "ipycompss.stop()"
   ]
  }
 ],
 "metadata": {
  "kernelspec": {
   "display_name": "Python 2",
   "language": "python",
   "name": "python2"
  },
  "language_info": {
   "codemirror_mode": {
    "name": "ipython",
    "version": 2
   },
   "file_extension": ".py",
   "mimetype": "text/x-python",
   "name": "python",
   "nbconvert_exporter": "python",
   "pygments_lexer": "ipython2",
   "version": "2.7.12"
  }
 },
 "nbformat": 4,
 "nbformat_minor": 2
}
