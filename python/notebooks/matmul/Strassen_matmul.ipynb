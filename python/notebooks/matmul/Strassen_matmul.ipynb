{
 "cells": [
  {
   "cell_type": "markdown",
   "metadata": {},
   "source": [
    "# Parallel matrix multiplication\n",
    "\n",
    "Note: Each result cell is calculated by reduction instead of accumulating the sums"
   ]
  },
  {
   "cell_type": "code",
   "execution_count": null,
   "metadata": {
    "collapsed": true
   },
   "outputs": [],
   "source": [
    "import pycompss.interactive as ipycompss"
   ]
  },
  {
   "cell_type": "code",
   "execution_count": null,
   "metadata": {},
   "outputs": [],
   "source": [
    "# Start PyCOMPSs runtime with graph and tracing enabled\n",
    "ipycompss.start(graph=True, trace=True, monitor=2000)"
   ]
  },
  {
   "cell_type": "code",
   "execution_count": null,
   "metadata": {
    "collapsed": true
   },
   "outputs": [],
   "source": [
    "from pycompss.api.task import task\n",
    "from pycompss.api.parameter import *\n",
    "import numpy as np\n",
    "import os"
   ]
  },
  {
   "cell_type": "markdown",
   "metadata": {},
   "source": [
    "## Task definitions"
   ]
  },
  {
   "cell_type": "code",
   "execution_count": null,
   "metadata": {},
   "outputs": [],
   "source": [
    "@task(returns=list)\n",
    "def createBlock(BSIZE, res, MKLProc):\n",
    "    os.environ[\"MKL_NUM_THREADS\"]=str(MKLProc)\n",
    "    if res:\n",
    "        block = np.array(np.zeros((BSIZE, BSIZE)), dtype=np.double, copy=False)\n",
    "    else:\n",
    "        block = np.array(np.random.random((BSIZE, BSIZE)), dtype=np.double,copy=False)\n",
    "    mb = np.matrix(block, dtype=np.double, copy=False)\n",
    "    return mb\n",
    "\n",
    "@task(c=INOUT)\n",
    "def multiply(a, b, c, MKLProc):\n",
    "    os.environ[\"MKL_NUM_THREADS\"]=str(MKLProc)\n",
    "    c += a * b\n",
    "\n",
    "@task(returns=list)\n",
    "def dot(A,B,transposeResult=False,transposeB=False):\n",
    "    if transposeB:\n",
    "        B = np.transpose(B)\n",
    "    if transposeResult:\n",
    "        return np.transpose(np.dot(A,B))\n",
    "    return np.dot(A,B)\n",
    "\n",
    "@task(returns=list)\n",
    "def sumList(A):\n",
    "    B = A[0]\n",
    "    for i in range(1,len(A)):\n",
    "        B += A[i]\n",
    "    return B\n",
    "\n",
    "@task(returns=list)\n",
    "def sumList4(A,B,C,D):\n",
    "    return A + B + C + D\n",
    "\n",
    "@task(returns=list)\n",
    "def sumList2(A,B):\n",
    "    return A + B"
   ]
  },
  {
   "cell_type": "markdown",
   "metadata": {},
   "source": [
    "## Functions"
   ]
  },
  {
   "cell_type": "code",
   "execution_count": null,
   "metadata": {
    "collapsed": true
   },
   "outputs": [],
   "source": [
    "def initialize_variables(MKLProc):\n",
    "    for matrix in [A, B]:\n",
    "        for i in range(MSIZE):\n",
    "            matrix.append([])\n",
    "            for j in range(MSIZE):\n",
    "                mb = createBlock(BSIZE, False, MKLProc)\n",
    "                matrix[i].append(mb)"
   ]
  },
  {
   "cell_type": "code",
   "execution_count": null,
   "metadata": {
    "collapsed": true
   },
   "outputs": [],
   "source": [
    "def reduceSum(A, amount = 4):\n",
    "    if len(A) == 1:\n",
    "        return A[0]\n",
    "    if len(A) == 2:\n",
    "        return sumList2(A[0],A[1])\n",
    "    if len(A) == 4:\n",
    "        return sumList4(A[0],A[1],A[2],A[3])\n",
    "    if len(A) < (amount + 1):\n",
    "        return sumList(A)\n",
    "    listToReduce = []\n",
    "    for i in range(0, len(A), amount):\n",
    "        listToSum = []\n",
    "        for j in range(i, min(len(A), i + amount)):\n",
    "            listToSum.append(A[j])\n",
    "        listToReduce.append(reduceSum(listToSum))\n",
    "    return reduceSum(listToReduce)"
   ]
  },
  {
   "cell_type": "code",
   "execution_count": null,
   "metadata": {
    "collapsed": true
   },
   "outputs": [],
   "source": [
    "def reduceSumGen(A, amount = 4):\n",
    "    if len(A) < (amount + 1):\n",
    "        return sumList(A)\n",
    "    listToReduce = []\n",
    "    for i in range(0, len(A), amount):\n",
    "        listToSum = []\n",
    "        for j in range(i, min(len(A), i + amount)):\n",
    "            listToSum.append(A[j])\n",
    "        listToReduce.append(reduceSumGen(listToSum))\n",
    "    return reduceSumGen(listToReduce)"
   ]
  },
  {
   "cell_type": "code",
   "execution_count": null,
   "metadata": {
    "collapsed": true
   },
   "outputs": [],
   "source": [
    "def multiplyBlocked(A,B,BSIZE,MKLProc, transposeB = False):\n",
    "    if transposeB:\n",
    "        newB=[]\n",
    "        for i in range(len(B[0])):\n",
    "            newB.append([])\n",
    "            for j in range(len(B)):\n",
    "                newB[i].append(B[j][i])\n",
    "        B = newB\n",
    "    C = []\n",
    "    for i in range(len(A)):\n",
    "        C.append([])\n",
    "        for j in range(len(B[0])):\n",
    "            listToSum = []\n",
    "            for k in range(len(A[0])):\n",
    "                listToSum.append(dot(A[i][k], B[k][j], transposeB=transposeB))\n",
    "            C[i].append(reduceSum(listToSum))\n",
    "    return C"
   ]
  },
  {
   "cell_type": "markdown",
   "metadata": {},
   "source": [
    "## MAIN Code\n",
    "\n",
    "Parameters (that can be configured in the following cell):\n",
    "* MSIZE: Matrix size (default: 8)\n",
    "* BSIZE: Block size (default: 16)\n",
    "* MKLProc: Number of MKL processes (default: 1)"
   ]
  },
  {
   "cell_type": "code",
   "execution_count": null,
   "metadata": {},
   "outputs": [],
   "source": [
    "import time\n",
    "begginingTime = time.time()\n",
    "\n",
    "from pycompss.api.api import compss_wait_on, compss_barrier\n",
    "\n",
    "MSIZE = 8\n",
    "BSIZE = 16\n",
    "MKLProc = 1\n",
    "A = []\n",
    "B = []\n",
    "\n",
    "startTime = time.time()\n",
    "\n",
    "initialize_variables(MKLProc)\n",
    "\n",
    "compss_barrier()\n",
    "\n",
    "initTime = time.time() - startTime\n",
    "startMulTime = time.time()\n",
    "\n",
    "C = multiplyBlocked(A,B,BSIZE,MKLProc)\n",
    "C = compss_wait_on(C)\n",
    "\n",
    "mulTime = time.time() - startMulTime\n",
    "mulTransTime = time.time() - startMulTime\n",
    "totalTime = time.time() - startTime\n",
    "totalTimeWithImports = time.time() - begginingTime"
   ]
  },
  {
   "cell_type": "code",
   "execution_count": null,
   "metadata": {},
   "outputs": [],
   "source": [
    "# Plot Result\n",
    "print \"PARAMS:------------------\"\n",
    "print \"MSIZE:{}\".format(MSIZE)\n",
    "print \"BSIZE:{}\".format(BSIZE)\n",
    "print \"initT:{}\".format(initTime)\n",
    "print \"multT:{}\".format(mulTime) \n",
    "print \"mulTransT:{}\".format(mulTransTime)\n",
    "print \"totalTime:{}\".format(totalTime)\n",
    "import pprint\n",
    "pprint.pprint(C)"
   ]
  },
  {
   "cell_type": "code",
   "execution_count": null,
   "metadata": {},
   "outputs": [],
   "source": [
    "ipycompss.stop()"
   ]
  }
 ],
 "metadata": {
  "kernelspec": {
   "display_name": "Python 2",
   "language": "python",
   "name": "python2"
  },
  "language_info": {
   "codemirror_mode": {
    "name": "ipython",
    "version": 2
   },
   "file_extension": ".py",
   "mimetype": "text/x-python",
   "name": "python",
   "nbconvert_exporter": "python",
   "pygments_lexer": "ipython2",
   "version": "2.7.12"
  }
 },
 "nbformat": 4,
 "nbformat_minor": 2
}
