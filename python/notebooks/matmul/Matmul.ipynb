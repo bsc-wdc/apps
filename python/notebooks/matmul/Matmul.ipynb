{
 "cells": [
  {
   "cell_type": "markdown",
   "metadata": {},
   "source": [
    "# Parallel matrix multiplication\n",
    "\n",
    "Note: distributed initialization, doesn't use files."
   ]
  },
  {
   "cell_type": "code",
   "execution_count": null,
   "metadata": {},
   "outputs": [],
   "source": [
    "import pycompss.interactive as ipycompss"
   ]
  },
  {
   "cell_type": "code",
   "execution_count": null,
   "metadata": {},
   "outputs": [],
   "source": [
    "# Start PyCOMPSs runtime with graph and tracing enabled\n",
    "ipycompss.start(graph=True, trace=True, monitor=2000)"
   ]
  },
  {
   "cell_type": "code",
   "execution_count": null,
   "metadata": {},
   "outputs": [],
   "source": [
    "from pycompss.api.task import task\n",
    "from pycompss.api.parameter import *\n",
    "import numpy as np\n",
    "import os"
   ]
  },
  {
   "cell_type": "markdown",
   "metadata": {},
   "source": [
    "## Task definitions"
   ]
  },
  {
   "cell_type": "code",
   "execution_count": null,
   "metadata": {},
   "outputs": [],
   "source": [
    "@task(returns=list)\n",
    "def createBlock(BSIZE, res, MKLProc):\n",
    "    os.environ[\"MKL_NUM_THREADS\"]=str(MKLProc)\n",
    "    if res:\n",
    "        block = np.array(np.zeros((BSIZE, BSIZE)), dtype=np.double, copy=False)\n",
    "    else:\n",
    "        block = np.array(np.random.random((BSIZE, BSIZE)), dtype=np.double,copy=False)\n",
    "    mb = np.matrix(block, dtype=np.double, copy=False)\n",
    "    return mb"
   ]
  },
  {
   "cell_type": "code",
   "execution_count": null,
   "metadata": {},
   "outputs": [],
   "source": [
    "@task(c=INOUT)\n",
    "def multiply(a, b, c, MKLProc):\n",
    "    os.environ[\"MKL_NUM_THREADS\"]=str(MKLProc)\n",
    "    c += a * b"
   ]
  },
  {
   "cell_type": "markdown",
   "metadata": {},
   "source": [
    "## Functions"
   ]
  },
  {
   "cell_type": "code",
   "execution_count": null,
   "metadata": {},
   "outputs": [],
   "source": [
    "def initialize_variables(MKLProc):\n",
    "    for matrix in [A, B]:\n",
    "        for i in range(MSIZE):\n",
    "            matrix.append([])\n",
    "            for j in range(MSIZE):\n",
    "                mb = createBlock(BSIZE, False, MKLProc)\n",
    "                matrix[i].append(mb)\n",
    "    for i in range(MSIZE):\n",
    "        C.append([])\n",
    "        for j in range(MSIZE):\n",
    "            mb = createBlock(BSIZE, True, MKLProc)\n",
    "            C[i].append(mb)"
   ]
  },
  {
   "cell_type": "markdown",
   "metadata": {},
   "source": [
    "## MAIN Code\n",
    "\n",
    "Parameters (that can be configured in the following cell):\n",
    "* MSIZE: Matrix size (default: 16)\n",
    "* BSIZE: Block size (default: 32)\n",
    "* MKLProc: Number of MKL processes (default: 1)"
   ]
  },
  {
   "cell_type": "code",
   "execution_count": null,
   "metadata": {},
   "outputs": [],
   "source": [
    "import time\n",
    "begginingTime = time.time()\n",
    "import sys\n",
    "from pycompss.api.api import compss_wait_on, compss_barrier\n",
    "\n",
    "MSIZE = 16\n",
    "BSIZE = 32\n",
    "MKLProc = 1\n",
    "A = []\n",
    "B = []\n",
    "C = []\n",
    "\n",
    "startTime = time.time()\n",
    "\n",
    "initialize_variables(MKLProc)\n",
    "\n",
    "compss_barrier()\n",
    "\n",
    "initTime = time.time() - startTime\n",
    "startMulTime = time.time()\n",
    "\n",
    "for i in range(MSIZE):\n",
    "    for j in range(MSIZE):\n",
    "        for k in range(MSIZE):\n",
    "            multiply(A[i][k], B[k][j], C[i][j], MKLProc)\n",
    "\n",
    "C = compss_wait_on(C)\n",
    "\n",
    "mulTime = time.time() - startMulTime\n",
    "mulTransTime = time.time() - startMulTime\n",
    "totalTime = time.time() - startTime\n",
    "totalTimeWithImports = time.time() - begginingTime"
   ]
  },
  {
   "cell_type": "code",
   "execution_count": null,
   "metadata": {},
   "outputs": [],
   "source": [
    "# Plot Result\n",
    "print(\"PARAMS:------------------\")\n",
    "print(\"MSIZE:{}\".format(MSIZE))\n",
    "print(\"BSIZE:{}\".format(BSIZE))\n",
    "print(\"initT:{}\".format(initTime))\n",
    "print(\"multT:{}\".format(mulTime))\n",
    "print(\"mulTransT:{}\".format(mulTransTime))\n",
    "print(\"totalTime:{}\".format(totalTime))\n",
    "import pprint\n",
    "pprint.pprint(C)"
   ]
  },
  {
   "cell_type": "code",
   "execution_count": null,
   "metadata": {},
   "outputs": [],
   "source": [
    "ipycompss.stop()"
   ]
  }
 ],
 "metadata": {
  "kernelspec": {
   "display_name": "Python 2",
   "language": "python",
   "name": "python2"
  },
  "language_info": {
   "codemirror_mode": {
    "name": "ipython",
    "version": 2
   },
   "file_extension": ".py",
   "mimetype": "text/x-python",
   "name": "python",
   "nbconvert_exporter": "python",
   "pygments_lexer": "ipython2",
   "version": "2.7.12"
  }
 },
 "nbformat": 4,
 "nbformat_minor": 2
}
