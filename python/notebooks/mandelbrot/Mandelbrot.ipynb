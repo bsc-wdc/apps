{
 "cells": [
  {
   "cell_type": "markdown",
   "metadata": {},
   "source": [
    "# Parallel mandelbrot generator\n",
    "\n",
    "Calculates and represents a mandelbrot set."
   ]
  },
  {
   "cell_type": "code",
   "execution_count": null,
   "metadata": {
    "collapsed": true
   },
   "outputs": [],
   "source": [
    "import pycompss.interactive as ipycompss"
   ]
  },
  {
   "cell_type": "code",
   "execution_count": null,
   "metadata": {
    "collapsed": false
   },
   "outputs": [],
   "source": [
    "# Start PyCOMPSs runtime with graph and tracing enabled\n",
    "ipycompss.start(graph=True, trace=True)"
   ]
  },
  {
   "cell_type": "code",
   "execution_count": null,
   "metadata": {
    "collapsed": true
   },
   "outputs": [],
   "source": [
    "from pycompss.api.task import task\n",
    "from pycompss.api.parameter import *\n",
    "from numpy import NaN, arange, abs, array"
   ]
  },
  {
   "cell_type": "code",
   "execution_count": null,
   "metadata": {
    "collapsed": true
   },
   "outputs": [],
   "source": [
    "def m(a, i=100):\n",
    "    z = 0\n",
    "    for n in range(1, i):\n",
    "        z = z**2 + a\n",
    "        if abs(z) > 2:\n",
    "            return n\n",
    "    return NaN"
   ]
  },
  {
   "cell_type": "code",
   "execution_count": null,
   "metadata": {
    "collapsed": false
   },
   "outputs": [],
   "source": [
    "@task(returns=list)\n",
    "def groupTasks(y, X, n):\n",
    "    Z = [0 for _ in xrange(len(X))]\n",
    "    for ix, x in enumerate(X):\n",
    "        Z[ix] = m(x + 1j * y, n)\n",
    "    return Z"
   ]
  },
  {
   "cell_type": "markdown",
   "metadata": {},
   "source": [
    "## MAIN Code\n",
    "\n",
    "Parameters (that can be configured in the following cell):\n",
    "* X: X range (default: arange(-2, 2, .01))\n",
    "* Y: Y range (default: arange(-2, 2, .01))\n",
    "* n: Precission (default: 20)"
   ]
  },
  {
   "cell_type": "code",
   "execution_count": null,
   "metadata": {
    "collapsed": false
   },
   "outputs": [],
   "source": [
    "import sys\n",
    "import time\n",
    "from pycompss.api.api import compss_wait_on\n",
    "\n",
    "X = arange(-2, 2, .01)\n",
    "Y = arange(-2, 2, .01)\n",
    "Z = [[] for _ in xrange(len(Y))]\n",
    "n = 20\n",
    "    \n",
    "st = time.time()\n",
    "for iy, y in enumerate(Y):\n",
    "    Z[iy] = groupTasks(y, X, n)\n",
    "Z = compss_wait_on(Z)\n",
    "print \"Elapsed time (s): {}\".format(time.time()-st)"
   ]
  },
  {
   "cell_type": "code",
   "execution_count": null,
   "metadata": {
    "collapsed": false
   },
   "outputs": [],
   "source": [
    "# Plot Result\n",
    "%matplotlib inline\n",
    "import matplotlib.pyplot as plt\n",
    "Z = array(Z)\n",
    "plt.imshow(Z, cmap='spectral')\n",
    "plt.show()\n",
    "#plt.imsave('Mandelbrot',Z, cmap='spectral')"
   ]
  },
  {
   "cell_type": "code",
   "execution_count": null,
   "metadata": {
    "collapsed": false
   },
   "outputs": [],
   "source": [
    "ipycompss.stop()"
   ]
  }
 ],
 "metadata": {
  "kernelspec": {
   "display_name": "Python 2",
   "language": "python",
   "name": "python2"
  },
  "language_info": {
   "codemirror_mode": {
    "name": "ipython",
    "version": 2
   },
   "file_extension": ".py",
   "mimetype": "text/x-python",
   "name": "python",
   "nbconvert_exporter": "python",
   "pygments_lexer": "ipython2",
   "version": "2.7.12"
  }
 },
 "nbformat": 4,
 "nbformat_minor": 2
}
