{
 "cells": [
  {
   "cell_type": "markdown",
   "metadata": {},
   "source": [
    "# Linear Regression\n",
    "\n",
    "Given a set of 2 dimension points, the goal of linear regression is to achieve the goal:\n",
    "\n",
    "$y=\\alpha + \\beta X$\n",
    "\n",
    "that minimizes the distance to all points."
   ]
  },
  {
   "cell_type": "code",
   "execution_count": null,
   "metadata": {},
   "outputs": [],
   "source": [
    "import pycompss.interactive as ipycompss"
   ]
  },
  {
   "cell_type": "code",
   "execution_count": null,
   "metadata": {},
   "outputs": [],
   "source": [
    "# Start PyCOMPSs runtime with graph and tracing enabled\n",
    "ipycompss.start(graph=True, trace=True)"
   ]
  },
  {
   "cell_type": "code",
   "execution_count": null,
   "metadata": {},
   "outputs": [],
   "source": [
    "from pycompss.api.task import task\n",
    "from pycompss.api.parameter import *\n",
    "import math\n",
    "from numpy import arange\n",
    "from numpy.random import randint\n",
    "import types\n",
    "import time"
   ]
  },
  {
   "cell_type": "markdown",
   "metadata": {},
   "source": [
    "## Task definitions"
   ]
  },
  {
   "cell_type": "code",
   "execution_count": null,
   "metadata": {},
   "outputs": [],
   "source": [
    "@task(returns=int)\n",
    "def _add(x):\n",
    "    return sum(x)\n",
    "\n",
    "@task(returns=int)\n",
    "def reduce_add(x, y):\n",
    "    return x+y\n",
    "\n",
    "@task(returns=float)\n",
    "def _mean(X, n):\n",
    "    return sum(X)/float(n)\n",
    "\n",
    "@task(returns=list)\n",
    "def _norm(X, m):\n",
    "    return [x-m for x in X]\n",
    "\n",
    "@task(returns=list)\n",
    "def _pow(X, p=2):\n",
    "    return [pow(x, 2) for x in X]\n",
    "\n",
    "@task(returns=float)\n",
    "def _mul(x, y):\n",
    "    return x*y\n",
    "\n",
    "@task(returns=float)\n",
    "def op_task(sum_x, sum_y, suma):\n",
    "    return suma/float(math.sqrt(sum_x*sum_y))\n",
    "\n",
    "@task(returns=float)\n",
    "def multFrag(a, b):\n",
    "    p = zip(a, b)\n",
    "    result = 0\n",
    "    for (a, b) in p:\n",
    "        result += a * b\n",
    "    return result\n",
    "\n",
    "@task(returns=(float, float))\n",
    "def computeLine(r, stdy, stdx, my, mx):\n",
    "    b = r * (math.sqrt(stdy) / math.sqrt(stdx))\n",
    "    A = my - b*mx\n",
    "    return b, A\n",
    "\n",
    "@task(returns=list)\n",
    "def genFragment(pointsPerFrag):\n",
    "    return list(randint(0,100,size=pointsPerFrag))"
   ]
  },
  {
   "cell_type": "markdown",
   "metadata": {},
   "source": [
    "## Functions"
   ]
  },
  {
   "cell_type": "code",
   "execution_count": null,
   "metadata": {},
   "outputs": [],
   "source": [
    "def std(X, m, n):\n",
    "    xs = [_norm(x, m) for x in X]\n",
    "    xp = [_pow(x, 2) for x in xs]\n",
    "    suma = mergeReduce(reduce_add, [_mean(x, n) for x in xp])\n",
    "    return suma"
   ]
  },
  {
   "cell_type": "code",
   "execution_count": null,
   "metadata": {},
   "outputs": [],
   "source": [
    "def pearson(X, Y, mx, my):\n",
    "    xs = [_norm(x, mx) for x in X]\n",
    "    ys = [_norm(y, my) for y in Y]\n",
    "    xxs = [_pow(x, 2) for x in xs]\n",
    "    yys = [_pow(y, 2) for y in ys]\n",
    "\n",
    "    suma = mergeReduce(reduce_add, [multFrag(a, b) for (a,b) in zip(xs, ys)])\n",
    "\n",
    "    sum_x = mergeReduce(reduce_add, list(map(_add, xxs)))\n",
    "    sum_y = mergeReduce(reduce_add, list(map(_add, yys)))\n",
    "    r = op_task(sum_x, sum_y, suma)\n",
    "    return r"
   ]
  },
  {
   "cell_type": "code",
   "execution_count": null,
   "metadata": {},
   "outputs": [],
   "source": [
    "def mergeReduce(function, data):\n",
    "    \"\"\" Apply function cumulatively to the items of data,\n",
    "        from left to right in binary tree structure, so as to\n",
    "        reduce the data to a single value.\n",
    "    :param function: function to apply to reduce data\n",
    "    :param data: List of items to be reduced\n",
    "    :return: result of reduce the data to a single value\n",
    "    \"\"\"\n",
    "    from collections import deque\n",
    "    q = deque(list(range(len(data))))\n",
    "    while len(q):\n",
    "        x = q.popleft()\n",
    "        if len(q):\n",
    "            y = q.popleft()\n",
    "            data[x] = function(data[x], data[y])\n",
    "            q.append(x)\n",
    "        else:\n",
    "            return data[x]"
   ]
  },
  {
   "cell_type": "code",
   "execution_count": null,
   "metadata": {},
   "outputs": [],
   "source": [
    "def initData(pointsPerFrag, fragments, dim):\n",
    "    data = [[genFragment(pointsPerFrag) for _ in range(fragments)] for _ in range(dim)]\n",
    "    return data"
   ]
  },
  {
   "cell_type": "code",
   "execution_count": null,
   "metadata": {},
   "outputs": [],
   "source": [
    "def mean(X, n):\n",
    "    result = mergeReduce(reduce_add, [_mean(x, n) for x in X])\n",
    "    return result"
   ]
  },
  {
   "cell_type": "code",
   "execution_count": null,
   "metadata": {},
   "outputs": [],
   "source": [
    "def fit(X, Y, n):\n",
    "    from pycompss.api.api import compss_wait_on\n",
    "    st = time.time()\n",
    "    mx = mean(X, n)\n",
    "    my = mean(Y, n)\n",
    "    r = pearson(X, Y, mx, my)\n",
    "    stdx = std(X, mx, n)\n",
    "    stdy = std(Y, mx, n)\n",
    "\n",
    "    line = computeLine(r, stdy, stdx, my, mx)\n",
    "\n",
    "    line = compss_wait_on(line)\n",
    "    print(\"Elapsed time {}\".format(time.time() - st))\n",
    "    return lambda x: line[0]*x+line[1]"
   ]
  },
  {
   "cell_type": "markdown",
   "metadata": {},
   "source": [
    "## MAIN \n",
    "\n",
    "Parameters (that can be configured in the following cell):\n",
    "* numPoints: Number of points (default: 1.000)\n",
    "* dim: Number of dimensions (default: 2 (plotting considers only 2 dimensions))\n",
    "* fragments: Number of fragments to consider (default: 5)"
   ]
  },
  {
   "cell_type": "code",
   "execution_count": null,
   "metadata": {},
   "outputs": [],
   "source": [
    "from pycompss.api.api import compss_wait_on\n",
    "\n",
    "numPoints = 1000\n",
    "dim = 2\n",
    "fragments = 5\n",
    "\n",
    "pointsPerFrag = numPoints//fragments\n",
    "data = initData(pointsPerFrag, fragments, dim)\n",
    "line = fit(data[0], data[1], numPoints)"
   ]
  },
  {
   "cell_type": "code",
   "execution_count": null,
   "metadata": {},
   "outputs": [],
   "source": [
    "# Plot Result\n",
    "%matplotlib inline\n",
    "from pylab import scatter, show, plot, savefig\n",
    "data = compss_wait_on(data)\n",
    "datax = [item for sublist in data[0] for item in sublist]\n",
    "datay = [item for sublist in data[1] for item in sublist]\n",
    "scatter(datax, datay, marker='x')\n",
    "plot([line(x) for x in arange(0.0, 100.0, 0.1)], arange(0.0, 100.0, 0.1))\n",
    "show()\n",
    "# savefig('lrd.png')"
   ]
  },
  {
   "cell_type": "code",
   "execution_count": null,
   "metadata": {},
   "outputs": [],
   "source": [
    "ipycompss.stop()"
   ]
  }
 ],
 "metadata": {
  "kernelspec": {
   "display_name": "Python 2",
   "language": "python",
   "name": "python2"
  },
  "language_info": {
   "codemirror_mode": {
    "name": "ipython",
    "version": 2
   },
   "file_extension": ".py",
   "mimetype": "text/x-python",
   "name": "python",
   "nbconvert_exporter": "python",
   "pygments_lexer": "ipython2",
   "version": "2.7.12"
  }
 },
 "nbformat": 4,
 "nbformat_minor": 2
}
